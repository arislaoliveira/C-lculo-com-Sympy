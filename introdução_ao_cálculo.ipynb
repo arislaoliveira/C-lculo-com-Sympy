{
  "nbformat": 4,
  "nbformat_minor": 0,
  "metadata": {
    "colab": {
      "provenance": [],
      "authorship_tag": "ABX9TyOj/8XEanruT52SWIPUwVSH",
      "include_colab_link": true
    },
    "kernelspec": {
      "name": "python3",
      "display_name": "Python 3"
    },
    "language_info": {
      "name": "python"
    }
  },
  "cells": [
    {
      "cell_type": "markdown",
      "metadata": {
        "id": "view-in-github",
        "colab_type": "text"
      },
      "source": [
        "<a href=\"https://colab.research.google.com/github/arislaoliveira/calculo-sympy/blob/main/introdu%C3%A7%C3%A3o_ao_c%C3%A1lculo.ipynb\" target=\"_parent\"><img src=\"https://colab.research.google.com/assets/colab-badge.svg\" alt=\"Open In Colab\"/></a>"
      ]
    },
    {
      "cell_type": "code",
      "execution_count": null,
      "metadata": {
        "colab": {
          "base_uri": "https://localhost:8080/"
        },
        "id": "a8lOif5I4lTp",
        "outputId": "899760f4-c84c-4301-a1e0-2f7d5ad065d6"
      },
      "outputs": [
        {
          "output_type": "stream",
          "name": "stdout",
          "text": [
            "Hello World\n"
          ]
        }
      ],
      "source": [
        "print('Hello World')"
      ]
    },
    {
      "cell_type": "code",
      "source": [
        "from sympy import *\n",
        "\n",
        "x = Symbol('x')\n",
        "\n",
        "(x**2 + sin(x))"
      ],
      "metadata": {
        "colab": {
          "base_uri": "https://localhost:8080/",
          "height": 38
        },
        "id": "BIehDwGe4sFD",
        "outputId": "9c6703c2-ebad-4d01-e622-738ce6bd36cd"
      },
      "execution_count": null,
      "outputs": [
        {
          "output_type": "execute_result",
          "data": {
            "text/plain": [
              "x**2 + sin(x)"
            ],
            "text/latex": "$\\displaystyle x^{2} + \\sin{\\left(x \\right)}$"
          },
          "metadata": {},
          "execution_count": 11
        }
      ]
    },
    {
      "cell_type": "code",
      "source": [
        "#derivada\n",
        "(x**2 + sin(x)).diff(x)"
      ],
      "metadata": {
        "colab": {
          "base_uri": "https://localhost:8080/",
          "height": 38
        },
        "id": "cbVQ_RaI77Mx",
        "outputId": "2d837f0e-c1be-4d71-b55f-f7e7f2a5a2bc"
      },
      "execution_count": null,
      "outputs": [
        {
          "output_type": "execute_result",
          "data": {
            "text/plain": [
              "2*x + cos(x)"
            ],
            "text/latex": "$\\displaystyle 2 x + \\cos{\\left(x \\right)}$"
          },
          "metadata": {},
          "execution_count": 12
        }
      ]
    },
    {
      "cell_type": "code",
      "source": [
        "(x**2 + sin(x)).diff(x,2)"
      ],
      "metadata": {
        "colab": {
          "base_uri": "https://localhost:8080/",
          "height": 38
        },
        "id": "2xjaR7Vc8D9B",
        "outputId": "2cd52f5f-2a16-4a98-cea1-3c0586a05a49"
      },
      "execution_count": null,
      "outputs": [
        {
          "output_type": "execute_result",
          "data": {
            "text/plain": [
              "2 - sin(x)"
            ],
            "text/latex": "$\\displaystyle 2 - \\sin{\\left(x \\right)}$"
          },
          "metadata": {},
          "execution_count": 14
        }
      ]
    },
    {
      "cell_type": "code",
      "source": [
        "Derivative(x**2 + sin(x)) #.doit()"
      ],
      "metadata": {
        "colab": {
          "base_uri": "https://localhost:8080/",
          "height": 38
        },
        "id": "0lWQxSh18N4L",
        "outputId": "0ec9d1b1-2f81-40ba-86a1-45b8ab6de8e8"
      },
      "execution_count": null,
      "outputs": [
        {
          "output_type": "execute_result",
          "data": {
            "text/plain": [
              "2*x + cos(x)"
            ],
            "text/latex": "$\\displaystyle 2 x + \\cos{\\left(x \\right)}$"
          },
          "metadata": {},
          "execution_count": 16
        }
      ]
    },
    {
      "cell_type": "code",
      "source": [
        "integrate(x**2 + sin(x))"
      ],
      "metadata": {
        "colab": {
          "base_uri": "https://localhost:8080/",
          "height": 54
        },
        "id": "XhKvA4dn8dhz",
        "outputId": "2ee4545a-77ff-4f0a-df1d-a83cfbfdf870"
      },
      "execution_count": null,
      "outputs": [
        {
          "output_type": "execute_result",
          "data": {
            "text/plain": [
              "x**3/3 - cos(x)"
            ],
            "text/latex": "$\\displaystyle \\frac{x^{3}}{3} - \\cos{\\left(x \\right)}$"
          },
          "metadata": {},
          "execution_count": 17
        }
      ]
    },
    {
      "cell_type": "code",
      "source": [
        "Integral(x**2 + sin(x))"
      ],
      "metadata": {
        "colab": {
          "base_uri": "https://localhost:8080/",
          "height": 55
        },
        "id": "PbA6AWj88iQM",
        "outputId": "d132e1d6-5c93-4f39-b8fa-2ccc66e700aa"
      },
      "execution_count": null,
      "outputs": [
        {
          "output_type": "execute_result",
          "data": {
            "text/plain": [
              "Integral(x**2 + sin(x), x)"
            ],
            "text/latex": "$\\displaystyle \\int \\left(x^{2} + \\sin{\\left(x \\right)}\\right)\\, dx$"
          },
          "metadata": {},
          "execution_count": 18
        }
      ]
    },
    {
      "cell_type": "code",
      "source": [
        "Integral(x**2 + sin(x)).doit()"
      ],
      "metadata": {
        "colab": {
          "base_uri": "https://localhost:8080/",
          "height": 54
        },
        "id": "27oqVbtm8poG",
        "outputId": "8aa14aac-09db-499e-bc12-92e246458872"
      },
      "execution_count": null,
      "outputs": [
        {
          "output_type": "execute_result",
          "data": {
            "text/plain": [
              "x**3/3 - cos(x)"
            ],
            "text/latex": "$\\displaystyle \\frac{x^{3}}{3} - \\cos{\\left(x \\right)}$"
          },
          "metadata": {},
          "execution_count": 19
        }
      ]
    }
  ]
}