{
  "nbformat": 4,
  "nbformat_minor": 0,
  "metadata": {
    "colab": {
      "provenance": [],
      "authorship_tag": "ABX9TyMKK5/aJ8EKw9L3gcklTcWH",
      "include_colab_link": true
    },
    "kernelspec": {
      "name": "python3",
      "display_name": "Python 3"
    },
    "language_info": {
      "name": "python"
    }
  },
  "cells": [
    {
      "cell_type": "markdown",
      "metadata": {
        "id": "view-in-github",
        "colab_type": "text"
      },
      "source": [
        "<a href=\"https://colab.research.google.com/github/arislaoliveira/C-lculo-com-Sympy/blob/main/Integrais_definidas.ipynb\" target=\"_parent\"><img src=\"https://colab.research.google.com/assets/colab-badge.svg\" alt=\"Open In Colab\"/></a>"
      ]
    },
    {
      "cell_type": "code",
      "execution_count": 1,
      "metadata": {
        "id": "fDynRE7t9vcU"
      },
      "outputs": [],
      "source": [
        "from sympy import *"
      ]
    },
    {
      "cell_type": "code",
      "source": [
        "x = Symbol('x')"
      ],
      "metadata": {
        "id": "ZQT03gzl93IM"
      },
      "execution_count": 2,
      "outputs": []
    },
    {
      "cell_type": "code",
      "source": [
        "Integral(x**2 + 2+sin(x)*exp(x))"
      ],
      "metadata": {
        "colab": {
          "base_uri": "https://localhost:8080/",
          "height": 55
        },
        "id": "I1Uww9gV_Zkk",
        "outputId": "61103ba0-dd01-44af-8ac4-d7364dde46a8"
      },
      "execution_count": 10,
      "outputs": [
        {
          "output_type": "execute_result",
          "data": {
            "text/plain": [
              "Integral(x**2 + exp(x)*sin(x) + 2, x)"
            ],
            "text/latex": "$\\displaystyle \\int \\left(x^{2} + e^{x} \\sin{\\left(x \\right)} + 2\\right)\\, dx$"
          },
          "metadata": {},
          "execution_count": 10
        }
      ]
    },
    {
      "cell_type": "code",
      "source": [
        "Integral(x**2 + 2+sin(x)*exp(x)).doit()"
      ],
      "metadata": {
        "colab": {
          "base_uri": "https://localhost:8080/",
          "height": 54
        },
        "id": "rI3H_zDz_g6D",
        "outputId": "ce6a1bae-bc31-4f7e-9229-bf593b156ef9"
      },
      "execution_count": 11,
      "outputs": [
        {
          "output_type": "execute_result",
          "data": {
            "text/plain": [
              "x**3/3 + 2*x + exp(x)*sin(x)/2 - exp(x)*cos(x)/2"
            ],
            "text/latex": "$\\displaystyle \\frac{x^{3}}{3} + 2 x + \\frac{e^{x} \\sin{\\left(x \\right)}}{2} - \\frac{e^{x} \\cos{\\left(x \\right)}}{2}$"
          },
          "metadata": {},
          "execution_count": 11
        }
      ]
    },
    {
      "cell_type": "code",
      "source": [
        "#limite , (variável de integração, limite inferior, limite superior)\n",
        "Integral(x**2 + 2+sin(x)*exp(x),(x,0,2))"
      ],
      "metadata": {
        "colab": {
          "base_uri": "https://localhost:8080/",
          "height": 80
        },
        "id": "cWOt3xQb_oJB",
        "outputId": "1b5ef88a-c23b-4197-a278-b5753e23a03a"
      },
      "execution_count": 12,
      "outputs": [
        {
          "output_type": "execute_result",
          "data": {
            "text/plain": [
              "Integral(x**2 + exp(x)*sin(x) + 2, (x, 0, 2))"
            ],
            "text/latex": "$\\displaystyle \\int\\limits_{0}^{2} \\left(x^{2} + e^{x} \\sin{\\left(x \\right)} + 2\\right)\\, dx$"
          },
          "metadata": {},
          "execution_count": 12
        }
      ]
    },
    {
      "cell_type": "code",
      "source": [
        "Integral(x**2 + 2+sin(x)*exp(x),(x,0,2)).doit()"
      ],
      "metadata": {
        "colab": {
          "base_uri": "https://localhost:8080/",
          "height": 54
        },
        "id": "LEFVpm0zAAdH",
        "outputId": "39b5ce03-ff79-46bf-d0f3-b97359bc60df"
      },
      "execution_count": 13,
      "outputs": [
        {
          "output_type": "execute_result",
          "data": {
            "text/plain": [
              "-exp(2)*cos(2)/2 + exp(2)*sin(2)/2 + 43/6"
            ],
            "text/latex": "$\\displaystyle - \\frac{e^{2} \\cos{\\left(2 \\right)}}{2} + \\frac{e^{2} \\sin{\\left(2 \\right)}}{2} + \\frac{43}{6}$"
          },
          "metadata": {},
          "execution_count": 13
        }
      ]
    },
    {
      "cell_type": "code",
      "source": [
        "Integral(x**2 + 2+sin(x)*exp(x),(x,0,2)).doit().evalf(3) #n° de casas"
      ],
      "metadata": {
        "colab": {
          "base_uri": "https://localhost:8080/",
          "height": 37
        },
        "id": "Kmcrm92eAOzr",
        "outputId": "b103ba8b-13a0-4464-e690-31e5c8032a95"
      },
      "execution_count": 15,
      "outputs": [
        {
          "output_type": "execute_result",
          "data": {
            "text/plain": [
              "12.1"
            ],
            "text/latex": "$\\displaystyle 12.1$"
          },
          "metadata": {},
          "execution_count": 15
        }
      ]
    },
    {
      "cell_type": "code",
      "source": [
        "# infinito \n",
        "oo\n",
        "-oo"
      ],
      "metadata": {
        "colab": {
          "base_uri": "https://localhost:8080/",
          "height": 37
        },
        "id": "NiFRk5D8AkMo",
        "outputId": "1cb1384b-3ba9-4cad-ec5f-9d1fe732b10f"
      },
      "execution_count": 16,
      "outputs": [
        {
          "output_type": "execute_result",
          "data": {
            "text/plain": [
              "-oo"
            ],
            "text/latex": "$\\displaystyle -\\infty$"
          },
          "metadata": {},
          "execution_count": 16
        }
      ]
    }
  ]
}